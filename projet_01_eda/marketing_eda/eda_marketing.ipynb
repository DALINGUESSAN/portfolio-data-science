{
 "cells": [
  {
   "cell_type": "markdown",
   "id": "8786155a",
   "metadata": {},
   "source": [
    "# EDA – Campagne Marketing"
   ]
  },
  {
   "cell_type": "code",
   "execution_count": null,
   "id": "0e8ae732",
   "metadata": {},
   "outputs": [],
   "source": [
    "import pandas as pd, numpy as np, matplotlib.pyplot as plt, seaborn as sns"
   ]
  },
  {
   "cell_type": "code",
   "execution_count": null,
   "id": "110e4b90",
   "metadata": {},
   "outputs": [],
   "source": [
    "df = pd.read_csv('data/marketing_campaign.csv', sep=';')\n",
    "df.head()"
   ]
  },
  {
   "cell_type": "markdown",
   "id": "06600b44",
   "metadata": {},
   "source": [
    "Ajoute ici tes analyses univariées, bivariées, etc."
   ]
  }
 ],
 "metadata": {},
 "nbformat": 4,
 "nbformat_minor": 5
}
