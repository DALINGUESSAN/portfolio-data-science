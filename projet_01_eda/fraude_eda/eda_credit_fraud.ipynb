{
 "cells": [
  {
   "cell_type": "markdown",
   "id": "c2fa33f3",
   "metadata": {},
   "source": [
    "# EDA – Fraude Bancaire"
   ]
  },
  {
   "cell_type": "code",
   "execution_count": null,
   "id": "d50f2143",
   "metadata": {},
   "outputs": [],
   "source": [
    "import pandas as pd, numpy as np, matplotlib.pyplot as plt, seaborn as sns"
   ]
  },
  {
   "cell_type": "code",
   "execution_count": null,
   "id": "1146da4d",
   "metadata": {},
   "outputs": [],
   "source": [
    "df = pd.read_csv('data/creditcard.csv')\n",
    "df.head()"
   ]
  },
  {
   "cell_type": "markdown",
   "id": "e18d2cbd",
   "metadata": {},
   "source": [
    "Ajoute ici tes analyses univariées, bivariées, etc."
   ]
  }
 ],
 "metadata": {},
 "nbformat": 4,
 "nbformat_minor": 5
}
